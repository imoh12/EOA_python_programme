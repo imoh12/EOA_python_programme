{
 "cells": [
  {
   "cell_type": "code",
   "execution_count": 12,
   "id": "24ab72c8",
   "metadata": {},
   "outputs": [],
   "source": [
    "class bank:\n",
    "        def  __init__ (self):\n",
    "            self.dict_1={'a':1000,'b':2000}\n",
    "        def create(self):\n",
    "            name=input('enter your name')\n",
    "            for i in self.dict_1.keys():\n",
    "                if i==name:\n",
    "                    print('welcome to first bank',i)\n",
    "                    print(i,'Your Account has been sucessfully created')\n",
    "        def balance(self):\n",
    "            name=input()\n",
    "            for i in self.dict_1.keys():\n",
    "                if i==name:\n",
    "                    print('hey',i)\n",
    "                    print(i,'u have amount of',self.dict_1['a'],'naira')\n",
    "                else:\n",
    "                    print('hey',i)\n",
    "                    print(i,'u have amount of',self.dict_1['b'],'naira')\n",
    "        def deposit(self):\n",
    "                        name=input('enter your name')\n",
    "                        for i in self.dict_1.keys():\n",
    "                            if i==name:\n",
    "                                cash=int(input('enter the amount of money'))\n",
    "                                self.sum_1=self.dict_1['a']+cash\n",
    "                                print('hey', i,'u have a balance sum of',self.sum_1)\n",
    "                            else:  \n",
    "                                name=input('enter your name')\n",
    "                                cash=int(input('enter the amount of money'))\n",
    "                                self.sum_2=self.dict_1['b']+cash\n",
    "                                print('hey', i,'u have a balance sum of',self.sum_2)                    \n",
    "        def remove(self):\n",
    "                name=input('enter your name')\n",
    "                for i in self.dict_1.keys():\n",
    "                    if i==name:\n",
    "                            print('hey', i,'how much will u be withdrawing today')\n",
    "                            amount=int(input('enter the amount of money'))                    \n",
    "                            if amount<self.sum_1:\n",
    "                                    self.removed_1=self.sum_1-amount\n",
    "                                    print('hey', i,'u have balance the sum of',self.removed_1)\n",
    "                            if amount>self.sum_1:\n",
    "                                    print('insufficient funds')\n",
    "                    else:\n",
    "                            name=input('enter your name')\n",
    "                            for i in self.dict_1.keys():\n",
    "                                if i==name:\n",
    "                                    print('hey', i,'how much will u be withdrawing today')\n",
    "                                    amount=int(input('enter the amount of money'))                        \n",
    "                                    if amount<self.sum_2:\n",
    "                                        self.removed_2=self.sum_2-amount\n",
    "                                        print('hey', i,'u have balance the sum of',self.removed_2)   \n",
    "                                    if amount>self.sum_2:\n",
    "                                        print('insufficient funds') \n",
    "        def transfer(self):\n",
    "                        print('hey a','how much will u be transfering today')\n",
    "                        cash=int(input('enter the amount of money'))\n",
    "                        if cash<self.removed_1: \n",
    "                            self.removed_1-=cash\n",
    "                            print('hey a','your balance is',self.removed_1)\n",
    "                            self.removed_2+=cash\n",
    "                            print('hey b',self.removed_2,'is your new balance')                                                       \n",
    "                        elif cash>self.removed_1:\n",
    "                            print('insufficient funds')            \n",
    "                        cash_1=int(input('enter the amount of money'))                        \n",
    "                        if cash_1<self.removed_2: \n",
    "                            self.removed_2-=cash_1\n",
    "                            print('hey b','your balance is',self.removed_2)\n",
    "                            self.removed_1+=cash_1\n",
    "                            print('hey a',self.removed_1,'is your new balance') \n",
    "                        elif cash_1>self.removed_2:\n",
    "                            print('insufficient funds')  \n",
    "\n",
    "obj=bank()"
   ]
  },
  {
   "cell_type": "code",
   "execution_count": 13,
   "id": "860c5333",
   "metadata": {},
   "outputs": [
    {
     "name": "stdout",
     "output_type": "stream",
     "text": [
      "enter your namea\n",
      "welcome to first bank a\n",
      "a Your Account has been sucessfully created\n"
     ]
    }
   ],
   "source": [
    "obj.create()"
   ]
  },
  {
   "cell_type": "code",
   "execution_count": 14,
   "id": "ae1d7483",
   "metadata": {},
   "outputs": [
    {
     "name": "stdout",
     "output_type": "stream",
     "text": [
      "a\n",
      "hey a\n",
      "a u have amount of 1000 naira\n",
      "hey b\n",
      "b u have amount of 2000 naira\n"
     ]
    }
   ],
   "source": [
    "obj.balance()"
   ]
  },
  {
   "cell_type": "code",
   "execution_count": 15,
   "id": "3d045346",
   "metadata": {},
   "outputs": [
    {
     "name": "stdout",
     "output_type": "stream",
     "text": [
      "enter your namea\n",
      "enter the amount of money500\n",
      "hey a u have a balance sum of 1500\n",
      "enter your nameb\n",
      "enter the amount of money500\n",
      "hey b u have a balance sum of 2500\n"
     ]
    }
   ],
   "source": [
    "obj.deposit()"
   ]
  },
  {
   "cell_type": "code",
   "execution_count": 16,
   "id": "141f93d9",
   "metadata": {},
   "outputs": [
    {
     "name": "stdout",
     "output_type": "stream",
     "text": [
      "enter your namea\n",
      "hey a how much will u be withdrawing today\n",
      "enter the amount of money500\n",
      "hey a u have balance the sum of 1000\n",
      "enter your nameb\n",
      "hey b how much will u be withdrawing today\n",
      "enter the amount of money500\n",
      "hey b u have balance the sum of 2000\n"
     ]
    }
   ],
   "source": [
    "obj.remove()"
   ]
  },
  {
   "cell_type": "code",
   "execution_count": 17,
   "id": "b980a55c",
   "metadata": {},
   "outputs": [
    {
     "name": "stdout",
     "output_type": "stream",
     "text": [
      "hey a how much will u be transfering today\n",
      "enter the amount of money500\n",
      "hey a your balance is 500\n",
      "hey b 2500 is your new balance\n",
      "enter the amount of money500\n",
      "hey b your balance is 2000\n",
      "hey a 1000 is your new balance\n"
     ]
    }
   ],
   "source": [
    "obj.transfer()"
   ]
  }
 ],
 "metadata": {
  "kernelspec": {
   "display_name": "Python 3 (ipykernel)",
   "language": "python",
   "name": "python3"
  },
  "language_info": {
   "codemirror_mode": {
    "name": "ipython",
    "version": 3
   },
   "file_extension": ".py",
   "mimetype": "text/x-python",
   "name": "python",
   "nbconvert_exporter": "python",
   "pygments_lexer": "ipython3",
   "version": "3.10.4"
  }
 },
 "nbformat": 4,
 "nbformat_minor": 5
}
