{
 "cells": [
  {
   "cell_type": "code",
   "execution_count": 1,
   "id": "26132852",
   "metadata": {},
   "outputs": [],
   "source": [
    "class bank:\n",
    "        def  __init__ (self):\n",
    "            self.dict_1={'a':1000,'b':2000}\n",
    "        def create(self):\n",
    "            name=input('enter your name')\n",
    "            for i in self.dict_1.keys():\n",
    "                if i==name:\n",
    "                    print('welcome to first bank',i)\n",
    "                    print(i,'Your Account has been sucessfully created')\n",
    "        def balance(self):\n",
    "            name=input()\n",
    "            for i in self.dict_1.keys():\n",
    "                if i==name:\n",
    "                    print('hey',i)\n",
    "                    print(i,'u have amount of',self.dict_1['a'],'naira')\n",
    "                else:\n",
    "                    print('hey',i)\n",
    "                    print(i,'u have amount of',self.dict_1['b'],'naira')\n",
    "        def deposit(self):\n",
    "                        name=input('enter your name')\n",
    "                        for i in self.dict_1.keys():\n",
    "                            if i==name:\n",
    "                                cash=int(input('enter the amount of money'))\n",
    "                                self.sum_1=self.dict_1['a']+cash\n",
    "                                print('hey', i,'u have a balance sum of',self.sum_1)\n",
    "                            else:  \n",
    "                                name=input('enter your name')\n",
    "                                cash=int(input('enter the amount of money'))\n",
    "                                self.sum_2=self.dict_1['b']+cash\n",
    "                                print('hey', i,'u have a balance sum of',self.sum_2)                    \n",
    "        def remove(self):\n",
    "                name=input('enter your name')\n",
    "                for i in self.dict_1.keys():\n",
    "                    if i==name:\n",
    "                            print('hey', i,'how much will u be withdrawing today')\n",
    "                            amount=int(input('enter the amount of money'))                    \n",
    "                            if amount<self.sum_1:\n",
    "                                    self.removed_1=self.sum_1-amount\n",
    "                                    print('hey', i,'u have balance the sum of',self.removed_1)\n",
    "                            if amount>self.sum_1:\n",
    "                                    print('insufficient funds')\n",
    "                    else:\n",
    "                            name=input('enter your name')\n",
    "                            for i in self.dict_1.keys():\n",
    "                                if i==name:\n",
    "                                    print('hey', i,'how much will u be withdrawing today')\n",
    "                                    amount=int(input('enter the amount of money'))                        \n",
    "                                    if amount<self.sum_2:\n",
    "                                        self.removed_2=self.sum_2-amount\n",
    "                                        print('hey', i,'u have balance the sum of',self.removed_2)   \n",
    "                                    if amount>self.sum_2:\n",
    "                                        print('insufficient funds') \n",
    "        def transfer(self):\n",
    "                for i in self.dict_1.keys():\n",
    "                    name=input('enter your name')\n",
    "                    if i==name:\n",
    "                        print('hey', i,'how much will u be transfering today')\n",
    "                        cash=int(input('enter the amount of money'))\n",
    "                        if cash<=self.removed_1: \n",
    "                            self.removed_1-=cash\n",
    "                            print('hey',i,'your balance is',self.removed_1)\n",
    "                            self.removed_2+=cash\n",
    "                            print('hey b',self.removed_2,'is your new balance')                                                       \n",
    "                        elif cash>self.removed_1:\n",
    "                            print('insufficient funds')                \n",
    "                    else:\n",
    "                        for i in self.dict_1.keys():                        \n",
    "                            name=input('enter your name')\n",
    "                            if i==name:\n",
    "                                print('hey', i,'how much will u be transfering today')  \n",
    "                                cash=int(input('enter the amount of money'))                        \n",
    "                                if money<=self.removed_2: \n",
    "                                    self.removed_2-=cash\n",
    "                                    print('hey',i,'your balance is',self.removed_2)\n",
    "                                    self.removed_1+=cash\n",
    "                                    print('hey a',self.removed_1,'is your new balance') \n",
    "                                elif money>self.removed_2:\n",
    "                                    print('insufficient funds')  \n",
    "\n",
    "obj=bank()"
   ]
  },
  {
   "cell_type": "code",
   "execution_count": 99,
   "id": "b98a5ecc",
   "metadata": {},
   "outputs": [
    {
     "name": "stdout",
     "output_type": "stream",
     "text": [
      "enter your namea\n",
      "welcome to first bank a\n",
      "a Your Account has been sucessfully created\n"
     ]
    }
   ],
   "source": [
    "obj.create()"
   ]
  },
  {
   "cell_type": "code",
   "execution_count": 100,
   "id": "656073fb",
   "metadata": {},
   "outputs": [
    {
     "name": "stdout",
     "output_type": "stream",
     "text": [
      "a\n",
      "hey a\n",
      "a u have amount of 1000 naira\n",
      "hey b\n",
      "b u have amount of 2000 naira\n"
     ]
    }
   ],
   "source": [
    "obj.balance()"
   ]
  },
  {
   "cell_type": "code",
   "execution_count": 101,
   "id": "a4f3ef7c",
   "metadata": {},
   "outputs": [
    {
     "name": "stdout",
     "output_type": "stream",
     "text": [
      "enter your namea\n",
      "enter the amount of money500\n",
      "hey a u have a balance sum of 1500\n",
      "enter your nameb\n",
      "enter the amount of money500\n",
      "hey b u have a balance sum of 2500\n"
     ]
    }
   ],
   "source": [
    "obj.deposit()"
   ]
  },
  {
   "cell_type": "code",
   "execution_count": 102,
   "id": "1fa93190",
   "metadata": {},
   "outputs": [
    {
     "name": "stdout",
     "output_type": "stream",
     "text": [
      "enter your namea\n",
      "hey a how much will u be withdrawing today\n",
      "enter the amount of money500\n",
      "hey a u have balance the sum of 1000\n",
      "enter your nameb\n",
      "hey b how much will u be withdrawing today\n",
      "enter the amount of money500\n",
      "hey b u have balance the sum of 2000\n"
     ]
    }
   ],
   "source": [
    "obj.remove()"
   ]
  },
  {
   "cell_type": "code",
   "execution_count": 103,
   "id": "debe1256",
   "metadata": {},
   "outputs": [
    {
     "name": "stdout",
     "output_type": "stream",
     "text": [
      "enter your namea\n",
      "hey a how much will u be transfering today\n",
      "enter the amount of money500\n",
      "hey a your balance is 500\n",
      "hey b 2500 is your new balance\n",
      "enter your nameb\n",
      "hey b how much will u be transfering today\n",
      "enter the amount of money500\n",
      "hey b your balance is 0\n",
      "hey b 3000 is your new balance\n"
     ]
    }
   ],
   "source": [
    "obj.transfer()"
   ]
  },
  {
   "cell_type": "code",
   "execution_count": null,
   "id": "6e68dbdc",
   "metadata": {},
   "outputs": [],
   "source": [
    "def itre(x):\n",
    "    for i in range (x):\n",
    "        name=input('ENTER YOUR NAME')\n",
    "        print(i)\n",
    "\n",
    "itre(10)"
   ]
  },
  {
   "cell_type": "code",
   "execution_count": 97,
   "id": "6abde8e1",
   "metadata": {},
   "outputs": [
    {
     "ename": "KeyboardInterrupt",
     "evalue": "Interrupted by user",
     "output_type": "error",
     "traceback": [
      "\u001b[1;31m---------------------------------------------------------------------------\u001b[0m",
      "\u001b[1;31mKeyboardInterrupt\u001b[0m                         Traceback (most recent call last)",
      "Input \u001b[1;32mIn [97]\u001b[0m, in \u001b[0;36m<cell line: 2>\u001b[1;34m()\u001b[0m\n\u001b[0;32m      2\u001b[0m \u001b[38;5;28;01mwhile\u001b[39;00m \u001b[38;5;28;01mTrue\u001b[39;00m:\n\u001b[0;32m      3\u001b[0m        \u001b[38;5;28;01mfor\u001b[39;00m i \u001b[38;5;129;01min\u001b[39;00m \u001b[38;5;28mrange\u001b[39m (\u001b[38;5;241m5\u001b[39m):\n\u001b[1;32m----> 4\u001b[0m         name\u001b[38;5;241m=\u001b[39m\u001b[38;5;28;43minput\u001b[39;49m\u001b[43m(\u001b[49m\u001b[38;5;124;43m'\u001b[39;49m\u001b[38;5;124;43mENTER YOUR NAME\u001b[39;49m\u001b[38;5;124;43m'\u001b[39;49m\u001b[43m)\u001b[49m\n\u001b[0;32m      5\u001b[0m         \u001b[38;5;28mprint\u001b[39m(\u001b[38;5;124mf\u001b[39m\u001b[38;5;124m'\u001b[39m\u001b[38;5;124myour s/n is \u001b[39m\u001b[38;5;132;01m{\u001b[39;00mi\u001b[38;5;132;01m}\u001b[39;00m\u001b[38;5;124m'\u001b[39m)\n\u001b[0;32m      6\u001b[0m time\u001b[38;5;241m.\u001b[39msleep(\u001b[38;5;241m10\u001b[39m)\n",
      "File \u001b[1;32m~\\AppData\\Local\\Programs\\Python\\Python310\\lib\\site-packages\\ipykernel\\kernelbase.py:1177\u001b[0m, in \u001b[0;36mKernel.raw_input\u001b[1;34m(self, prompt)\u001b[0m\n\u001b[0;32m   1173\u001b[0m \u001b[38;5;28;01mif\u001b[39;00m \u001b[38;5;129;01mnot\u001b[39;00m \u001b[38;5;28mself\u001b[39m\u001b[38;5;241m.\u001b[39m_allow_stdin:\n\u001b[0;32m   1174\u001b[0m     \u001b[38;5;28;01mraise\u001b[39;00m StdinNotImplementedError(\n\u001b[0;32m   1175\u001b[0m         \u001b[38;5;124m\"\u001b[39m\u001b[38;5;124mraw_input was called, but this frontend does not support input requests.\u001b[39m\u001b[38;5;124m\"\u001b[39m\n\u001b[0;32m   1176\u001b[0m     )\n\u001b[1;32m-> 1177\u001b[0m \u001b[38;5;28;01mreturn\u001b[39;00m \u001b[38;5;28;43mself\u001b[39;49m\u001b[38;5;241;43m.\u001b[39;49m\u001b[43m_input_request\u001b[49m\u001b[43m(\u001b[49m\n\u001b[0;32m   1178\u001b[0m \u001b[43m    \u001b[49m\u001b[38;5;28;43mstr\u001b[39;49m\u001b[43m(\u001b[49m\u001b[43mprompt\u001b[49m\u001b[43m)\u001b[49m\u001b[43m,\u001b[49m\n\u001b[0;32m   1179\u001b[0m \u001b[43m    \u001b[49m\u001b[38;5;28;43mself\u001b[39;49m\u001b[38;5;241;43m.\u001b[39;49m\u001b[43m_parent_ident\u001b[49m\u001b[43m[\u001b[49m\u001b[38;5;124;43m\"\u001b[39;49m\u001b[38;5;124;43mshell\u001b[39;49m\u001b[38;5;124;43m\"\u001b[39;49m\u001b[43m]\u001b[49m\u001b[43m,\u001b[49m\n\u001b[0;32m   1180\u001b[0m \u001b[43m    \u001b[49m\u001b[38;5;28;43mself\u001b[39;49m\u001b[38;5;241;43m.\u001b[39;49m\u001b[43mget_parent\u001b[49m\u001b[43m(\u001b[49m\u001b[38;5;124;43m\"\u001b[39;49m\u001b[38;5;124;43mshell\u001b[39;49m\u001b[38;5;124;43m\"\u001b[39;49m\u001b[43m)\u001b[49m\u001b[43m,\u001b[49m\n\u001b[0;32m   1181\u001b[0m \u001b[43m    \u001b[49m\u001b[43mpassword\u001b[49m\u001b[38;5;241;43m=\u001b[39;49m\u001b[38;5;28;43;01mFalse\u001b[39;49;00m\u001b[43m,\u001b[49m\n\u001b[0;32m   1182\u001b[0m \u001b[43m\u001b[49m\u001b[43m)\u001b[49m\n",
      "File \u001b[1;32m~\\AppData\\Local\\Programs\\Python\\Python310\\lib\\site-packages\\ipykernel\\kernelbase.py:1219\u001b[0m, in \u001b[0;36mKernel._input_request\u001b[1;34m(self, prompt, ident, parent, password)\u001b[0m\n\u001b[0;32m   1216\u001b[0m             \u001b[38;5;28;01mbreak\u001b[39;00m\n\u001b[0;32m   1217\u001b[0m \u001b[38;5;28;01mexcept\u001b[39;00m \u001b[38;5;167;01mKeyboardInterrupt\u001b[39;00m:\n\u001b[0;32m   1218\u001b[0m     \u001b[38;5;66;03m# re-raise KeyboardInterrupt, to truncate traceback\u001b[39;00m\n\u001b[1;32m-> 1219\u001b[0m     \u001b[38;5;28;01mraise\u001b[39;00m \u001b[38;5;167;01mKeyboardInterrupt\u001b[39;00m(\u001b[38;5;124m\"\u001b[39m\u001b[38;5;124mInterrupted by user\u001b[39m\u001b[38;5;124m\"\u001b[39m) \u001b[38;5;28;01mfrom\u001b[39;00m \u001b[38;5;28mNone\u001b[39m\n\u001b[0;32m   1220\u001b[0m \u001b[38;5;28;01mexcept\u001b[39;00m \u001b[38;5;167;01mException\u001b[39;00m:\n\u001b[0;32m   1221\u001b[0m     \u001b[38;5;28mself\u001b[39m\u001b[38;5;241m.\u001b[39mlog\u001b[38;5;241m.\u001b[39mwarning(\u001b[38;5;124m\"\u001b[39m\u001b[38;5;124mInvalid Message:\u001b[39m\u001b[38;5;124m\"\u001b[39m, exc_info\u001b[38;5;241m=\u001b[39m\u001b[38;5;28;01mTrue\u001b[39;00m)\n",
      "\u001b[1;31mKeyboardInterrupt\u001b[0m: Interrupted by user"
     ]
    }
   ],
   "source": [
    "import time\n",
    "while True:\n",
    "       for i in range (5):\n",
    "        name=input('ENTER YOUR NAME')\n",
    "        print(f'your s/n is {i}')\n",
    "time.sleep(10)"
   ]
  },
  {
   "cell_type": "code",
   "execution_count": 89,
   "id": "d14614cb",
   "metadata": {},
   "outputs": [
    {
     "name": "stdout",
     "output_type": "stream",
     "text": [
      "a\n",
      "s\n",
      "d\n",
      "f\n",
      "{'a': 1, 's': 2, 'd': 3, 'f': 4}\n"
     ]
    }
   ],
   "source": [
    "count={}\n",
    "for i in range (1,5):\n",
    "    name=input()\n",
    "    count[name]=i\n",
    "print(count)"
   ]
  },
  {
   "cell_type": "code",
   "execution_count": 91,
   "id": "475e4a4c",
   "metadata": {},
   "outputs": [
    {
     "data": {
      "text/plain": [
       "5"
      ]
     },
     "execution_count": 91,
     "metadata": {},
     "output_type": "execute_result"
    }
   ],
   "source": [
    "add=lambda y,z:y+z\n",
    "add(2,3)"
   ]
  },
  {
   "cell_type": "code",
   "execution_count": 2,
   "id": "ad8193f4",
   "metadata": {},
   "outputs": [
    {
     "data": {
      "text/plain": [
       "1.0"
      ]
     },
     "execution_count": 2,
     "metadata": {},
     "output_type": "execute_result"
    }
   ],
   "source": [
    "m=lambda x,y,n:(x*y-(x*y)/n)/(x**2-(x**2)/n)\n",
    "m(1,1,3)"
   ]
  },
  {
   "cell_type": "code",
   "execution_count": null,
   "id": "52f5ce32",
   "metadata": {},
   "outputs": [],
   "source": [
    "b=lambda y"
   ]
  },
  {
   "cell_type": "code",
   "execution_count": 4,
   "id": "2884c064",
   "metadata": {},
   "outputs": [
    {
     "data": {
      "text/plain": [
       "9"
      ]
     },
     "execution_count": 4,
     "metadata": {},
     "output_type": "execute_result"
    }
   ],
   "source": []
  },
  {
   "cell_type": "code",
   "execution_count": 54,
   "id": "4891a132",
   "metadata": {},
   "outputs": [
    {
     "name": "stdout",
     "output_type": "stream",
     "text": [
      "enter the no5\n"
     ]
    }
   ],
   "source": [
    "class math:\n",
    "    def __init__(self):\n",
    "        self.n=int(input('enter the no'))\n",
    "    def itre(self):\n",
    "        Sum_x=0\n",
    "        for i in range (self.n):\n",
    "            self.x=int(input('enter the no'))\n",
    "            Sum_x=Sum_x+self.x\n",
    "            print(self.x)\n",
    "            print(f'the x is{Sum_x}')\n",
    "    def itra(self):\n",
    "        Sum_y=0\n",
    "        for i in range (self.n):\n",
    "            self.y=int(input('enter the no'))\n",
    "            print(self.y) \n",
    "            Sum_y=Sum_y+self.y\n",
    "            print(self.y)\n",
    "            print(f'the y is{Sum_y}')\n",
    "    def mam(self):\n",
    "        m=((Sum_x*Sum_y)/1-(Sum_x*Sum_y)/self.n)/((Sum_x**2)/1-(Sum_x)**2/self.n)\n",
    "        return(f'the m is{m}') \n",
    "    def bah(self):\n",
    "        m=float(input('enter the m'))\n",
    "        b=self.y-(m*self.x)\n",
    "        return(f'the b is{b}')  \n",
    "obj=math()"
   ]
  },
  {
   "cell_type": "code",
   "execution_count": 55,
   "id": "a978c44e",
   "metadata": {},
   "outputs": [
    {
     "name": "stdout",
     "output_type": "stream",
     "text": [
      "enter the no1\n",
      "1\n",
      "the x is1\n",
      "enter the no2\n",
      "2\n",
      "the x is3\n",
      "enter the no3\n",
      "3\n",
      "the x is6\n",
      "enter the no4\n",
      "4\n",
      "the x is10\n",
      "enter the no5\n",
      "5\n",
      "the x is15\n"
     ]
    }
   ],
   "source": [
    "obj.itre()"
   ]
  },
  {
   "cell_type": "code",
   "execution_count": 56,
   "id": "45c55ffe",
   "metadata": {},
   "outputs": [
    {
     "name": "stdout",
     "output_type": "stream",
     "text": [
      "enter the no9\n",
      "9\n",
      "9\n",
      "the y is9\n",
      "enter the no8\n",
      "8\n",
      "8\n",
      "the y is17\n",
      "enter the no7\n",
      "7\n",
      "7\n",
      "the y is24\n",
      "enter the no6\n",
      "6\n",
      "6\n",
      "the y is30\n",
      "enter the no5\n",
      "5\n",
      "5\n",
      "the y is35\n"
     ]
    }
   ],
   "source": [
    "obj.itra()"
   ]
  },
  {
   "cell_type": "code",
   "execution_count": 57,
   "id": "3c83677c",
   "metadata": {},
   "outputs": [
    {
     "ename": "NameError",
     "evalue": "name 'Sum_x' is not defined",
     "output_type": "error",
     "traceback": [
      "\u001b[1;31m---------------------------------------------------------------------------\u001b[0m",
      "\u001b[1;31mNameError\u001b[0m                                 Traceback (most recent call last)",
      "Input \u001b[1;32mIn [57]\u001b[0m, in \u001b[0;36m<cell line: 1>\u001b[1;34m()\u001b[0m\n\u001b[1;32m----> 1\u001b[0m \u001b[43mobj\u001b[49m\u001b[38;5;241;43m.\u001b[39;49m\u001b[43mmam\u001b[49m\u001b[43m(\u001b[49m\u001b[43m)\u001b[49m\n",
      "Input \u001b[1;32mIn [54]\u001b[0m, in \u001b[0;36mmath.mam\u001b[1;34m(self)\u001b[0m\n\u001b[0;32m     19\u001b[0m \u001b[38;5;28;01mdef\u001b[39;00m \u001b[38;5;21mmam\u001b[39m(\u001b[38;5;28mself\u001b[39m):\n\u001b[1;32m---> 20\u001b[0m     m\u001b[38;5;241m=\u001b[39m((\u001b[43mSum_x\u001b[49m\u001b[38;5;241m*\u001b[39mSum_y)\u001b[38;5;241m/\u001b[39m\u001b[38;5;241m1\u001b[39m\u001b[38;5;241m-\u001b[39m(Sum_x\u001b[38;5;241m*\u001b[39mSum_y)\u001b[38;5;241m/\u001b[39m\u001b[38;5;28mself\u001b[39m\u001b[38;5;241m.\u001b[39mn)\u001b[38;5;241m/\u001b[39m((Sum_x\u001b[38;5;241m*\u001b[39m\u001b[38;5;241m*\u001b[39m\u001b[38;5;241m2\u001b[39m)\u001b[38;5;241m/\u001b[39m\u001b[38;5;241m1\u001b[39m\u001b[38;5;241m-\u001b[39m(Sum_x)\u001b[38;5;241m*\u001b[39m\u001b[38;5;241m*\u001b[39m\u001b[38;5;241m2\u001b[39m\u001b[38;5;241m/\u001b[39m\u001b[38;5;28mself\u001b[39m\u001b[38;5;241m.\u001b[39mn)\n\u001b[0;32m     21\u001b[0m     \u001b[38;5;28;01mreturn\u001b[39;00m(\u001b[38;5;124mf\u001b[39m\u001b[38;5;124m'\u001b[39m\u001b[38;5;124mthe m is\u001b[39m\u001b[38;5;132;01m{\u001b[39;00mm\u001b[38;5;132;01m}\u001b[39;00m\u001b[38;5;124m'\u001b[39m)\n",
      "\u001b[1;31mNameError\u001b[0m: name 'Sum_x' is not defined"
     ]
    }
   ],
   "source": [
    "obj.mam()"
   ]
  },
  {
   "cell_type": "code",
   "execution_count": 12,
   "id": "cb0b7898",
   "metadata": {},
   "outputs": [
    {
     "name": "stdout",
     "output_type": "stream",
     "text": [
      "enter the m1.05\n"
     ]
    },
    {
     "data": {
      "text/plain": [
       "'the b is0.0'"
      ]
     },
     "execution_count": 12,
     "metadata": {},
     "output_type": "execute_result"
    }
   ],
   "source": [
    "obj.bah()"
   ]
  },
  {
   "cell_type": "code",
   "execution_count": 51,
   "id": "24ab72c8",
   "metadata": {},
   "outputs": [],
   "source": [
    "class bank:\n",
    "        def  __init__ (self):\n",
    "            self.dict_1={'a':1000,'b':2000}\n",
    "        def create(self):\n",
    "            name=input('enter your name')\n",
    "            for i in self.dict_1.keys():\n",
    "                if i==name:\n",
    "                    print('welcome to first bank',i)\n",
    "                    print(i,'Your Account has been sucessfully created')\n",
    "        def balance(self):\n",
    "            name=input()\n",
    "            for i in self.dict_1.keys():\n",
    "                if i==name:\n",
    "                    print('hey',i)\n",
    "                    print(i,'u have amount of',self.dict_1['a'],'naira')\n",
    "                else:\n",
    "                    print('hey',i)\n",
    "                    print(i,'u have amount of',self.dict_1['b'],'naira')\n",
    "        def deposit(self):\n",
    "                        name=input('enter your name')\n",
    "                        for i in self.dict_1.keys():\n",
    "                            if i==name:\n",
    "                                cash=int(input('enter the amount of money'))\n",
    "                                self.sum_1=self.dict_1['a']+cash\n",
    "                                print('hey', i,'u have a balance sum of',self.sum_1)\n",
    "                            else:  \n",
    "                                name=input('enter your name')\n",
    "                                cash=int(input('enter the amount of money'))\n",
    "                                self.sum_2=self.dict_1['b']+cash\n",
    "                                print('hey', i,'u have a balance sum of',self.sum_2)                    \n",
    "        def remove(self):\n",
    "                name=input('enter your name')\n",
    "                for i in self.dict_1.keys():\n",
    "                    if i==name:\n",
    "                            print('hey', i,'how much will u be withdrawing today')\n",
    "                            amount=int(input('enter the amount of money'))                    \n",
    "                            if amount<self.sum_1:\n",
    "                                    self.removed_1=self.sum_1-amount\n",
    "                                    print('hey', i,'u have balance the sum of',self.removed_1)\n",
    "                            if amount>self.sum_1:\n",
    "                                    print('insufficient funds')\n",
    "                    else:\n",
    "                            name=input('enter your name')\n",
    "                            for i in self.dict_1.keys():\n",
    "                                if i==name:\n",
    "                                    print('hey', i,'how much will u be withdrawing today')\n",
    "                                    amount=int(input('enter the amount of money'))                        \n",
    "                                    if amount<self.sum_2:\n",
    "                                        self.removed_2=self.sum_2-amount\n",
    "                                        print('hey', i,'u have balance the sum of',self.removed_2)   \n",
    "                                    if amount>self.sum_2:\n",
    "                                        print('insufficient funds') \n",
    "        def transfer(self):\n",
    "                    for i in self.dict_1.keys():\n",
    "                        name=input('enter your name')\n",
    "                        i=name\n",
    "                        print('hey', i,'how much will u be transfering today')\n",
    "                        cash=int(input('enter the amount of money'))\n",
    "                        if cash<self.removed_1: \n",
    "                            self.removed_1-=cash\n",
    "                            print('hey',i,'your balance is',self.removed_1)\n",
    "                            self.removed_2+=cash\n",
    "                            print('hey b',self.removed_2,'is your new balance')                                                       \n",
    "                        elif cash>self.removed_1:\n",
    "                            print('insufficient funds')                \n",
    "                        else: \n",
    "                            for i in self.dict_1.keys():\n",
    "                                name=input('enter your name')\n",
    "                                i=name\n",
    "                                print('hey', i,'how much will u be transfering today')  \n",
    "                                cash=int(input('enter the amount of money'))                        \n",
    "                                if cash<self.removed_2: \n",
    "                                    self.removed_2-=cash\n",
    "                                    print('hey',i,'your balance is',self.removed_2)\n",
    "                                    self.removed_1+=cash\n",
    "                                    print('hey a',self.removed_1,'is your new balance') \n",
    "                                elif cash>self.removed_2:\n",
    "                                    print('insufficient funds')  \n",
    "\n",
    "obj=bank()"
   ]
  },
  {
   "cell_type": "code",
   "execution_count": 53,
   "id": "860c5333",
   "metadata": {},
   "outputs": [
    {
     "name": "stdout",
     "output_type": "stream",
     "text": [
      "enter your namea\n",
      "welcome to first bank a\n",
      "a Your Account has been sucessfully created\n"
     ]
    }
   ],
   "source": [
    "obj.create()"
   ]
  },
  {
   "cell_type": "code",
   "execution_count": 54,
   "id": "ae1d7483",
   "metadata": {},
   "outputs": [
    {
     "name": "stdout",
     "output_type": "stream",
     "text": [
      "a\n",
      "hey a\n",
      "a u have amount of 1000 naira\n",
      "hey b\n",
      "b u have amount of 2000 naira\n"
     ]
    }
   ],
   "source": [
    "obj.balance()"
   ]
  },
  {
   "cell_type": "code",
   "execution_count": 55,
   "id": "3d045346",
   "metadata": {},
   "outputs": [
    {
     "name": "stdout",
     "output_type": "stream",
     "text": [
      "enter your namea\n",
      "enter the amount of money500\n",
      "hey a u have a balance sum of 1500\n",
      "enter your nameb\n",
      "enter the amount of money500\n",
      "hey b u have a balance sum of 2500\n"
     ]
    }
   ],
   "source": [
    "obj.deposit()"
   ]
  },
  {
   "cell_type": "code",
   "execution_count": 56,
   "id": "141f93d9",
   "metadata": {},
   "outputs": [
    {
     "name": "stdout",
     "output_type": "stream",
     "text": [
      "enter your namea\n",
      "hey a how much will u be withdrawing today\n",
      "enter the amount of money500\n",
      "hey a u have balance the sum of 1000\n",
      "enter your nameb\n",
      "hey b how much will u be withdrawing today\n",
      "enter the amount of money500\n",
      "hey b u have balance the sum of 2000\n"
     ]
    }
   ],
   "source": [
    "obj.remove()"
   ]
  },
  {
   "cell_type": "code",
   "execution_count": 57,
   "id": "b980a55c",
   "metadata": {},
   "outputs": [
    {
     "name": "stdout",
     "output_type": "stream",
     "text": [
      "enter your namea\n",
      "hey a how much will u be transfering today\n",
      "enter the amount of money500\n",
      "hey a your balance is 500\n",
      "hey b 2500 is your new balance\n",
      "enter your nameb\n",
      "hey b how much will u be transfering today\n",
      "enter the amount of money500\n",
      "enter your nameb\n",
      "hey b how much will u be transfering today\n",
      "enter the amount of money500\n",
      "hey b your balance is 2000\n",
      "hey a 1000 is your new balance\n",
      "enter your nameb\n",
      "hey b how much will u be transfering today\n",
      "enter the amount of money5000\n",
      "insufficient funds\n"
     ]
    }
   ],
   "source": [
    "obj.transfer()"
   ]
  },
  {
   "cell_type": "code",
   "execution_count": 1,
   "id": "0739b625",
   "metadata": {},
   "outputs": [
    {
     "ename": "SyntaxError",
     "evalue": "invalid character '“' (U+201C) (834395971.py, line 11)",
     "output_type": "error",
     "traceback": [
      "\u001b[1;36m  Input \u001b[1;32mIn [1]\u001b[1;36m\u001b[0m\n\u001b[1;33m    name = “\u001b[0m\n\u001b[1;37m           ^\u001b[0m\n\u001b[1;31mSyntaxError\u001b[0m\u001b[1;31m:\u001b[0m invalid character '“' (U+201C)\n"
     ]
    }
   ],
   "source": [
    "import pickle\n",
    "\n",
    "import os\n",
    "\n",
    "import pathlib\n",
    "\n",
    "class Account :\n",
    "\n",
    "   accNo = 0\n",
    "\n",
    "   name = “\n",
    "\n",
    "   deposit=0\n",
    "\n",
    "   type = “\n",
    "\n",
    "   def createAccount(self):\n",
    "\n",
    "       self.accNo= int(input(“Enter the account no : “))\n",
    "\n",
    "       self.name = input(“Enter the account holder name : “)\n",
    "\n",
    "       self.type = input(“Ente the type of account [C/S] : “)\n",
    "\n",
    "       self.deposit = int(input(“Enter The Initial amount(>=500 for Saving and >=1000 for current”))\n",
    "\n",
    "       print(“\\n\\n\\nAccount Created”)\n",
    "\n",
    "   def showAccount(self):\n",
    "\n",
    "       print(“Account Number : “,self.accNo)\n",
    "\n",
    "       print(“Account Holder Name : “, self.name)\n",
    "\n",
    "       print(“Type of Account”,self.type)\n",
    "\n",
    "       print(“Balance : “,self.deposit)\n",
    "\n",
    "   def modifyAccount(self):\n",
    "\n",
    "       print(“Account Number : “,self.accNo)\n",
    "\n",
    "       self.name = input(“Modify Account Holder Name :”)\n",
    "\n",
    "       self.type = input(“Modify type of Account :”)\n",
    "\n",
    "       self.deposit = int(input(“Modify Balance :”))\n",
    "\n",
    "   def depositAmount(self,amount):\n",
    "\n",
    "       self.deposit += amount  \n",
    "\n",
    "   def withdrawAmount(self,amount):\n",
    "\n",
    "       self.deposit -= amount  \n",
    "\n",
    "   def report(self):\n",
    "\n",
    "       print(self.accNo, ” “,self.name ,” “,self.type,” “, self.deposit)  \n",
    "\n",
    "   def getAccountNo(self):\n",
    "\n",
    "       return self.accNo\n",
    "\n",
    "   def getAcccountHolderName(self):\n",
    "\n",
    "       return self.name\n",
    "\n",
    "   def getAccountType(self):\n",
    "\n",
    "       return self.type\n",
    "\n",
    "   def getDeposit(self):\n",
    "\n",
    "       return self.deposit\n",
    "\n",
    "def intro():\n",
    "\n",
    "   print(“\\t\\t\\t\\t**********************”)\n",
    "\n",
    "   print(“\\t\\t\\t\\tBANK MANAGEMENT SYSTEM”)\n",
    "\n",
    "   print(“\\t\\t\\t\\t**********************”)\n",
    "\n",
    "   print(“\\t\\t\\t\\tBrought To You By:”)\n",
    "\n",
    "   print(“\\t\\t\\t\\tprojectworlds.in”)\n",
    "\n",
    "   input()\n",
    "\n",
    "def writeAccount():\n",
    "\n",
    "   account = Account()\n",
    "\n",
    "   account.createAccount()\n",
    "\n",
    "   writeAccountsFile(account)\n",
    "\n",
    "def displayAll():\n",
    "\n",
    "   file = pathlib.Path(“accounts.data”)\n",
    "\n",
    "   if file.exists ():\n",
    "\n",
    "       infile = open(‘accounts.data’,’rb’)\n",
    "\n",
    "       mylist = pickle.load(infile)\n",
    "\n",
    "       for item in mylist :\n",
    "\n",
    "           print(item.accNo,” “, item.name, ” “,item.type, ” “,item.deposit )\n",
    "\n",
    "       infile.close()\n",
    "\n",
    "   else :\n",
    "\n",
    "       print(“No records to display”)\n",
    "\n",
    "def displaySp(num):\n",
    "\n",
    "   file = pathlib.Path(“accounts.data”)\n",
    "\n",
    "   if file.exists ():\n",
    "\n",
    "       infile = open(‘accounts.data’,’rb’)\n",
    "\n",
    "       mylist = pickle.load(infile)\n",
    "\n",
    "       infile.close()\n",
    "\n",
    "       found = False\n",
    "\n",
    "       for item in mylist :\n",
    "\n",
    "           if item.accNo == num :\n",
    "\n",
    "               print(“Your account Balance is = “,item.deposit)\n",
    "\n",
    "               found = True\n",
    "\n",
    "   else :\n",
    "\n",
    "       print(“No records to Search”)\n",
    "\n",
    "   if not found :\n",
    "\n",
    "       print(“No existing record with this number”)\n",
    "\n",
    "def depositAndWithdraw(num1,num2):\n",
    "\n",
    "   file = pathlib.Path(“accounts.data”)\n",
    "\n",
    "   if file.exists ():\n",
    "\n",
    "       infile = open(‘accounts.data’,’rb’)\n",
    "\n",
    "       mylist = pickle.load(infile)\n",
    "\n",
    "       infile.close()\n",
    "\n",
    "       os.remove(‘accounts.data’)\n",
    "\n",
    "       for item in mylist :\n",
    "\n",
    "           if item.accNo == num1 :\n",
    "\n",
    "               if num2 == 1 :\n",
    "\n",
    "                   amount = int(input(“Enter the amount to deposit : “))\n",
    "\n",
    "                   item.deposit += amount\n",
    "\n",
    "                   print(“Your account is updted”)\n",
    "\n",
    "               elif num2 == 2 :\n",
    "\n",
    "                   amount = int(input(“Enter the amount to withdraw : “))\n",
    "\n",
    "                   if amount <= item.deposit :\n",
    "\n",
    "                       item.deposit -=amount\n",
    "\n",
    "                   else :\n",
    "\n",
    "                       print(“You cannot withdraw larger amount”)              \n",
    "\n",
    "   else :\n",
    "\n",
    "       print(“No records to Search”)\n",
    "\n",
    "   outfile = open(‘newaccounts.data’,’wb’)\n",
    "\n",
    "   pickle.dump(mylist, outfile)\n",
    "\n",
    "   outfile.close()\n",
    "\n",
    "   os.rename(‘newaccounts.data’, ‘accounts.data’)  \n",
    "\n",
    "def deleteAccount(num):\n",
    "\n",
    "   file = pathlib.Path(“accounts.data”)\n",
    "\n",
    "   if file.exists ():\n",
    "\n",
    "       infile = open(‘accounts.data’,’rb’)\n",
    "\n",
    "       oldlist = pickle.load(infile)\n",
    "\n",
    "       infile.close()\n",
    "\n",
    "       newlist = []\n",
    "\n",
    "       for item in oldlist :\n",
    "\n",
    "           if item.accNo != num :\n",
    "\n",
    "               newlist.append(item)\n",
    "\n",
    "       os.remove(‘accounts.data’)\n",
    "\n",
    "       outfile = open(‘newaccounts.data’,’wb’)\n",
    "\n",
    "       pickle.dump(newlist, outfile)\n",
    "\n",
    "       outfile.close()\n",
    "\n",
    "       os.rename(‘newaccounts.data’, ‘accounts.data’)  \n",
    "\n",
    "def modifyAccount(num):\n",
    "\n",
    "   file = pathlib.Path(“accounts.data”)\n",
    "\n",
    "   if file.exists ():\n",
    "\n",
    "       infile = open(‘accounts.data’,’rb’)\n",
    "\n",
    "       oldlist = pickle.load(infile)\n",
    "\n",
    "       infile.close()\n",
    "\n",
    "       os.remove(‘accounts.data’)\n",
    "\n",
    "       for item in oldlist :\n",
    "\n",
    "           if item.accNo == num :\n",
    "\n",
    "               item.name = input(“Enter the account holder name : “)\n",
    "\n",
    "               item.type = input(“Enter the account Type : “)\n",
    "\n",
    "               item.deposit = int(input(“Enter the Amount : “))      \n",
    "\n",
    "       outfile = open(‘newaccounts.data’,’wb’)\n",
    "\n",
    "       pickle.dump(oldlist, outfile)\n",
    "\n",
    "       outfile.close()\n",
    "\n",
    "       os.rename(‘newaccounts.data’, ‘accounts.data’)\n",
    "\n",
    "def writeAccountsFile(account) :  \n",
    "\n",
    "   file = pathlib.Path(“accounts.data”)\n",
    "\n",
    "   if file.exists ():\n",
    "\n",
    "       infile = open(‘accounts.data’,’rb’)\n",
    "\n",
    "       oldlist = pickle.load(infile)\n",
    "\n",
    "       oldlist.append(account)\n",
    "\n",
    "       infile.close()\n",
    "\n",
    "       os.remove(‘accounts.data’)\n",
    "\n",
    "   else :\n",
    "\n",
    "       oldlist = [account]\n",
    "\n",
    "   outfile = open(‘newaccounts.data’,’wb’)\n",
    "\n",
    "   pickle.dump(oldlist, outfile)\n",
    "\n",
    "   outfile.close()\n",
    "\n",
    "   os.rename(‘newaccounts.data’, ‘accounts.data’)      \n",
    "\n",
    "# start of the program\n",
    "\n",
    "ch=”\n",
    "\n",
    "num=0\n",
    "\n",
    "intro()\n",
    "\n",
    "while ch != 8:\n",
    "\n",
    "   #system(“cls”);\n",
    "\n",
    "   print(“\\tMAIN MENU”)\n",
    "\n",
    "   print(“\\t1. NEW ACCOUNT”)\n",
    "\n",
    "   print(“\\t2. DEPOSIT AMOUNT”)\n",
    "\n",
    "   print(“\\t3. WITHDRAW AMOUNT”)\n",
    "\n",
    "   print(“\\t4. BALANCE ENQUIRY”)\n",
    "\n",
    "   print(“\\t5. ALL ACCOUNT HOLDER LIST”)\n",
    "\n",
    "   print(“\\t6. CLOSE AN ACCOUNT”)\n",
    "\n",
    "   print(“\\t7. MODIFY AN ACCOUNT”)\n",
    "\n",
    "   print(“\\t8. EXIT”)\n",
    "\n",
    "   print(“\\tSelect Your Option (1-8) “)\n",
    "\n",
    "   ch = input()\n",
    "\n",
    "   #system(“cls”);  \n",
    "\n",
    "   if ch == ‘1’:\n",
    "\n",
    "       writeAccount()\n",
    "\n",
    "   elif ch ==’2′:\n",
    "\n",
    "       num = int(input(“\\tEnter The account No. : “))\n",
    "\n",
    "       depositAndWithdraw(num, 1)\n",
    "\n",
    "   elif ch == ‘3’:\n",
    "\n",
    "       num = int(input(“\\tEnter The account No. : “))\n",
    "\n",
    "       depositAndWithdraw(num, 2)\n",
    "\n",
    "   elif ch == ‘4’:\n",
    "\n",
    "       num = int(input(“\\tEnter The account No. : “))bottom\n",
    "\n",
    "       displaySp(num)\n",
    "\n",
    "   elif ch == ‘5’:\n",
    "\n",
    "       displayAll();\n",
    "\n",
    "   elif ch == ‘6’:\n",
    "\n",
    "       num =int(input(“\\tEnter The account No. : “))\n",
    "\n",
    "       deleteAccount(num)\n",
    "\n",
    "   elif ch == ‘7’:\n",
    "\n",
    "       num = int(input(“\\tEnter The account No. : “))\n",
    "\n",
    "       modifyAccount(num)\n",
    "\n",
    "   elif ch == ‘8’:\n",
    "\n",
    "       print(“\\tThanks for using bank management system”)\n",
    "\n",
    "       break\n",
    "\n",
    "   else :\n",
    "\n",
    "       print(“Invalid choice”)  \n",
    "\n",
    "   ch = input(“Enter your choice : “)"
   ]
  },
  {
   "cell_type": "code",
   "execution_count": null,
   "id": "3187d45b",
   "metadata": {},
   "outputs": [],
   "source": []
  }
 ],
 "metadata": {
  "kernelspec": {
   "display_name": "Python 3 (ipykernel)",
   "language": "python",
   "name": "python3"
  },
  "language_info": {
   "codemirror_mode": {
    "name": "ipython",
    "version": 3
   },
   "file_extension": ".py",
   "mimetype": "text/x-python",
   "name": "python",
   "nbconvert_exporter": "python",
   "pygments_lexer": "ipython3",
   "version": "3.10.4"
  }
 },
 "nbformat": 4,
 "nbformat_minor": 5
}
