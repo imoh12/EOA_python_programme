{
 "cells": [
  {
   "cell_type": "code",
   "execution_count": 6,
   "id": "f5aeeded",
   "metadata": {},
   "outputs": [
    {
     "name": "stdout",
     "output_type": "stream",
     "text": [
      "enter the fahrenheit2\n",
      "enter the celsius3\n",
      "37.4 -16.666666666666668\n"
     ]
    }
   ],
   "source": [
    "#finding fahrenheit and celsius\n",
    "f_ah=float(input('enter the fahrenheit'))\n",
    "C_el=float(input('enter the celsius'))\n",
    "c=(f_ah-32)*5/9\n",
    "F=(C_el*9/5) + 32\n",
    "print(F,c)"
   ]
  },
  {
   "cell_type": "code",
   "execution_count": 7,
   "id": "bd96bf53",
   "metadata": {},
   "outputs": [
    {
     "name": "stdout",
     "output_type": "stream",
     "text": [
      "[False, True, False, True, False, True, False, True, False]\n",
      "[True, False, True, False, True, False, True, False, True]\n"
     ]
    }
   ],
   "source": [
    "#using boolean to the truity and falsity of odd and even numbers\n",
    "list_1=[1,2,3,4,5,6,7,8,9]\n",
    "even_2=[]\n",
    "odd_3=[]\n",
    "for i in list_1: \n",
    "    even_2.append(i%2==0)\n",
    "print(even_2)\n",
    "for x in list_1:\n",
    "    odd_3.append(x%2==1)\n",
    "print(odd_3)"
   ]
  },
  {
   "cell_type": "code",
   "execution_count": 9,
   "id": "83e71fbd",
   "metadata": {},
   "outputs": [
    {
     "name": "stdout",
     "output_type": "stream",
     "text": [
      "4\n",
      "5\n"
     ]
    }
   ],
   "source": [
    "\n",
    "odd=0\n",
    "even=0\n",
    "for i in range(1,10):\n",
    "    if i%2==0: \n",
    "        even+=1\n",
    "    else:\n",
    "        odd+=1\n",
    "print(even)\n",
    "print(odd)"
   ]
  },
  {
   "cell_type": "code",
   "execution_count": 10,
   "id": "dbce5b85",
   "metadata": {},
   "outputs": [
    {
     "name": "stdout",
     "output_type": "stream",
     "text": [
      "1\n",
      "2\n",
      "fizz\n",
      "4\n",
      "buzz\n",
      "fizz\n",
      "7\n",
      "8\n",
      "fizz\n",
      "buzz\n",
      "11\n",
      "fizz\n",
      "13\n",
      "14\n",
      "fizzbuzz\n",
      "16\n",
      "17\n",
      "fizz\n",
      "19\n",
      "buzz\n",
      "fizz\n",
      "22\n",
      "23\n",
      "fizz\n",
      "buzz\n",
      "26\n",
      "fizz\n",
      "28\n",
      "29\n",
      "fizzbuzz\n",
      "31\n",
      "32\n",
      "fizz\n",
      "34\n",
      "buzz\n",
      "fizz\n",
      "37\n",
      "38\n",
      "fizz\n",
      "buzz\n",
      "41\n",
      "fizz\n",
      "43\n",
      "44\n",
      "fizzbuzz\n",
      "46\n",
      "47\n",
      "fizz\n",
      "49\n",
      "buzz\n"
     ]
    }
   ],
   "source": [
    "#iterates the integers from 1 to 50 and print out for the given three conditions\n",
    "for n in range (1,51):\n",
    "    if  (n%5==0) &(n%3==0):\n",
    "        print(\"fizzbuzz\") \n",
    "    elif n%3==0:\n",
    "        print(\"fizz\") \n",
    "    elif n%5==0:\n",
    "        print(\"buzz\")\n",
    "    else:\n",
    "        print(n)"
   ]
  },
  {
   "cell_type": "code",
   "execution_count": 18,
   "id": "9d99dc0a",
   "metadata": {},
   "outputs": [
    {
     "data": {
      "text/plain": [
       "{1, 2, 3, 4, 5, 6, 8, 9}"
      ]
     },
     "execution_count": 18,
     "metadata": {},
     "output_type": "execute_result"
    }
   ],
   "source": [
    "#union of sets\n",
    "set_1={1,2,3,4,5}\n",
    "set_2={2,9,8,3,5,6}\n",
    "set_1.union(set_2)"
   ]
  },
  {
   "cell_type": "code",
   "execution_count": 19,
   "id": "ebce08ea",
   "metadata": {},
   "outputs": [
    {
     "data": {
      "text/plain": [
       "{2, 3, 5}"
      ]
     },
     "execution_count": 19,
     "metadata": {},
     "output_type": "execute_result"
    }
   ],
   "source": [
    "##intersection of sets\n",
    "set_1={1,2,3,4,5}\n",
    "set_2={2,9,8,3,5,6}\n",
    "set_1&set_2"
   ]
  },
  {
   "cell_type": "code",
   "execution_count": 20,
   "id": "6014cd09",
   "metadata": {},
   "outputs": [
    {
     "data": {
      "text/plain": [
       "{1, 4}"
      ]
     },
     "execution_count": 20,
     "metadata": {},
     "output_type": "execute_result"
    }
   ],
   "source": [
    "##difference of sets\n",
    "set_1={1,2,3,4,5}\n",
    "set_2={2,9,8,3,5,6}\n",
    "set_1.difference(set_2)"
   ]
  },
  {
   "cell_type": "code",
   "execution_count": 31,
   "id": "73986039",
   "metadata": {},
   "outputs": [
    {
     "name": "stdout",
     "output_type": "stream",
     "text": [
      "{1, 2, 3, 4, 5, 'orange', 'mango'}\n",
      "{1, 2, 3, 4, 5, 'mango'}\n"
     ]
    }
   ],
   "source": [
    "set_1={1,2,3,4,5}\n",
    "set_2={2,9,8,3,5,6}\n",
    "set_3={'orange','mango'}\n",
    "set_1.update(set_3)\n",
    "print(set_1)\n",
    "set_1.remove('orange')\n",
    "print(set_1)"
   ]
  },
  {
   "cell_type": "code",
   "execution_count": 33,
   "id": "762d189c",
   "metadata": {},
   "outputs": [
    {
     "data": {
      "text/plain": [
       "False"
      ]
     },
     "execution_count": 33,
     "metadata": {},
     "output_type": "execute_result"
    }
   ],
   "source": [
    "##subset of sets\n",
    "set_1={1,2,3,4,5}\n",
    "set_2={2,9,8,3,5,6}\n",
    "set_1.issubset(set_2)"
   ]
  },
  {
   "cell_type": "code",
   "execution_count": 35,
   "id": "3db8b4b2",
   "metadata": {},
   "outputs": [
    {
     "data": {
      "text/plain": [
       "False"
      ]
     },
     "execution_count": 35,
     "metadata": {},
     "output_type": "execute_result"
    }
   ],
   "source": [
    "#superset\n",
    "set_1={1,2,3,4,5}\n",
    "set_2={2,9,8,3,5,6}\n",
    "set_1.issuperset(set_2)"
   ]
  },
  {
   "cell_type": "code",
   "execution_count": 36,
   "id": "d2cfc922",
   "metadata": {},
   "outputs": [
    {
     "data": {
      "text/plain": [
       "False"
      ]
     },
     "execution_count": 36,
     "metadata": {},
     "output_type": "execute_result"
    }
   ],
   "source": [
    "#disjoint\n",
    "set_1={1,2,3,4,5}\n",
    "set_2={2,9,8,3,5,6}\n",
    "set_1.isdisjoint(set_2)"
   ]
  },
  {
   "cell_type": "code",
   "execution_count": 18,
   "id": "acefd11c",
   "metadata": {},
   "outputs": [
    {
     "name": "stdout",
     "output_type": "stream",
     "text": [
      "enter the age13\n",
      "not accepted\n"
     ]
    }
   ],
   "source": [
    "age=int(input('enter the age'))\n",
    "if age<10:\n",
    "    print('accepted')\n",
    "elif (age>12)&(age<20):\n",
    "    print ('not accepted')\n",
    "elif age>20:\n",
    "    print('accepted')"
   ]
  },
  {
   "cell_type": "code",
   "execution_count": 20,
   "id": "631dc0d7",
   "metadata": {},
   "outputs": [
    {
     "name": "stdout",
     "output_type": "stream",
     "text": [
      "enter the score2\n"
     ]
    },
    {
     "ename": "ValueError",
     "evalue": "could not convert string to float: 'enter the first number'",
     "output_type": "error",
     "traceback": [
      "\u001b[1;31m---------------------------------------------------------------------------\u001b[0m",
      "\u001b[1;31mValueError\u001b[0m                                Traceback (most recent call last)",
      "Input \u001b[1;32mIn [20]\u001b[0m, in \u001b[0;36m<cell line: 3>\u001b[1;34m()\u001b[0m\n\u001b[0;32m      1\u001b[0m \u001b[38;5;66;03m#binary operation \u001b[39;00m\n\u001b[0;32m      2\u001b[0m t\u001b[38;5;241m=\u001b[39m\u001b[38;5;28mint\u001b[39m(\u001b[38;5;28minput\u001b[39m(\u001b[38;5;124m'\u001b[39m\u001b[38;5;124menter the score\u001b[39m\u001b[38;5;124m'\u001b[39m))\n\u001b[1;32m----> 3\u001b[0m x\u001b[38;5;241m=\u001b[39m\u001b[38;5;28;43mfloat\u001b[39;49m\u001b[43m(\u001b[49m\u001b[38;5;124;43m'\u001b[39;49m\u001b[38;5;124;43menter the first number\u001b[39;49m\u001b[38;5;124;43m'\u001b[39;49m\u001b[43m)\u001b[49m\n\u001b[0;32m      4\u001b[0m y\u001b[38;5;241m=\u001b[39m\u001b[38;5;28mfloat\u001b[39m(\u001b[38;5;124m'\u001b[39m\u001b[38;5;124menter the second number\u001b[39m\u001b[38;5;124m'\u001b[39m)\n\u001b[0;32m      5\u001b[0m z\u001b[38;5;241m=\u001b[39m\u001b[38;5;28mfloat\u001b[39m(\u001b[38;5;124m'\u001b[39m\u001b[38;5;124menter the third number\u001b[39m\u001b[38;5;124m'\u001b[39m)\n",
      "\u001b[1;31mValueError\u001b[0m: could not convert string to float: 'enter the first number'"
     ]
    }
   ],
   "source": [
    "#binary operation \n",
    "t=int(input('enter the score'))\n",
    "x=float(input('enter the first number'))\n",
    "y=float(input('enter the second number'))\n",
    "z=float(input('enter the third number'))\n",
    "def adder(x,y,z):\n",
    "    print(\"sum:\",x^t**2+y^t**1+z^t**0)\n",
    "\n",
    "adder()"
   ]
  },
  {
   "cell_type": "code",
   "execution_count": null,
   "id": "22d6f67e",
   "metadata": {},
   "outputs": [],
   "source": []
  }
 ],
 "metadata": {
  "kernelspec": {
   "display_name": "Python 3 (ipykernel)",
   "language": "python",
   "name": "python3"
  },
  "language_info": {
   "codemirror_mode": {
    "name": "ipython",
    "version": 3
   },
   "file_extension": ".py",
   "mimetype": "text/x-python",
   "name": "python",
   "nbconvert_exporter": "python",
   "pygments_lexer": "ipython3",
   "version": "3.10.4"
  }
 },
 "nbformat": 4,
 "nbformat_minor": 5
}
