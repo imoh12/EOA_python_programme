{
 "cells": [
  {
   "cell_type": "code",
   "execution_count": null,
   "id": "0117c2fc",
   "metadata": {},
   "outputs": [],
   "source": [
    "class math:\n",
    "    def __init__(self):\n",
    "        self.n=int(input('enter the no'))\n",
    "    def itre(self):\n",
    "        Sum_x=0\n",
    "        for i in range (self.n):\n",
    "            self.x=int(input('enter the no'))\n",
    "            Sum_x=Sum_x+self.x\n",
    "            print(self.x)\n",
    "            print(f'the x is{Sum_x}')\n",
    "    def itra(self):\n",
    "        Sum_y=0\n",
    "        for i in range (self.n):\n",
    "            self.y=int(input('enter the no'))\n",
    "            print(self.y) \n",
    "            Sum_y=Sum_y+self.y\n",
    "            print(self.y)\n",
    "            print(f'the y is{Sum_y}')\n",
    "    def mam(self):\n",
    "        m=((Sum_x*Sum_y)/1-(Sum_x*Sum_y)/self.n)/((Sum_x**2)/1-(Sum_x)**2/self.n)\n",
    "        return(f'the m is{m}') \n",
    "    def bah(self):\n",
    "        m=float(input('enter the m'))\n",
    "        b=self.y-(m*self.x)\n",
    "        return(f'the b is{b}')  \n",
    "obj=math()"
   ]
  },
  {
   "cell_type": "code",
   "execution_count": null,
   "id": "de37cebc",
   "metadata": {},
   "outputs": [],
   "source": [
    "obj.itre()"
   ]
  },
  {
   "cell_type": "code",
   "execution_count": null,
   "id": "aa2d4e42",
   "metadata": {},
   "outputs": [],
   "source": [
    "obj.itra()"
   ]
  },
  {
   "cell_type": "code",
   "execution_count": null,
   "id": "42b07628",
   "metadata": {},
   "outputs": [],
   "source": [
    "obj.mam()"
   ]
  },
  {
   "cell_type": "code",
   "execution_count": null,
   "id": "a4b6dd39",
   "metadata": {},
   "outputs": [],
   "source": [
    "obj.bah()"
   ]
  }
 ],
 "metadata": {
  "kernelspec": {
   "display_name": "Python 3 (ipykernel)",
   "language": "python",
   "name": "python3"
  },
  "language_info": {
   "codemirror_mode": {
    "name": "ipython",
    "version": 3
   },
   "file_extension": ".py",
   "mimetype": "text/x-python",
   "name": "python",
   "nbconvert_exporter": "python",
   "pygments_lexer": "ipython3",
   "version": "3.10.4"
  }
 },
 "nbformat": 4,
 "nbformat_minor": 5
}
