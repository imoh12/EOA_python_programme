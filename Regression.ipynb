{
 "cells": [
  {
   "cell_type": "code",
   "execution_count": 7,
   "id": "0117c2fc",
   "metadata": {},
   "outputs": [
    {
     "name": "stdout",
     "output_type": "stream",
     "text": [
      "enter the no1\n"
     ]
    }
   ],
   "source": [
    "class math:\n",
    "    def __init__(self):\n",
    "            self.list_x=[0]\n",
    "            self.list_y=[0]\n",
    "            while self.list_x[-1]!=\"\":\n",
    "                val_1=input(\"enter the score\")\n",
    "                val_2=input(\"enter the score\")\n",
    "                self.list_x.append(val_1)\n",
    "                self.list_y.append(val_2)\n",
    "            self.list_x=[float(i) for i in self.list_x[1:-1]]\n",
    "            self.list_y=[float(i) for i in self.list_y[1:-1]]\n",
    "    def total_x(self):\n",
    "        self.tot_x=sum(self.list_x)\n",
    "        print(self.tot_x)\n",
    "    def total_y(self):\n",
    "        self.tot_y=sum(self.list_y)\n",
    "        print(self.tot_y)\n",
    "    def square_x(self):\n",
    "        self.squa_x=sum([i**2 for i in self.list_x])\n",
    "        print(self.squa_x)\n",
    "    def square_y(self):\n",
    "        self.squa_y=sum([i**2 for i in self.list_y])\n",
    "        print(self.squa_y)\n",
    "    def multiple_xy(self):\n",
    "        list_sum=[]\n",
    "        for i in range(0, len(self.list_x)):\n",
    "            list_sum.append(self.list_x[i]*self.list_y[i])\n",
    "            self.mult_xy=(sum(list_sum))\n",
    "        print(list_sum)\n",
    "        print(self.mult_xy)\n",
    "    def average_x(self):\n",
    "        self.aver_x=sum(self.list_x)/len(self.list_x)\n",
    "        print(self.aver_x)\n",
    "    def average_y(self):\n",
    "        self.aver_y=sum(self.list_y)/len(self.list_y)\n",
    "        print(self.aver_y)\n",
    "    def mam(self):\n",
    "        n=len(self.list_x)\n",
    "        self.m=(( self.mult_xy)/1-(self.tot_x*self.tot_y)/n)/((self.squa_x)/1-(self.tot_x)**2/n)\n",
    "        print(f'the m is{self.m}')         \n",
    "    def bah(self):\n",
    "        b=self.aver_y-self.m*self.aver_x\n",
    "        print(f'y={self.m}x+{b}') \n",
    "obj= math()"
   ]
  },
  {
   "cell_type": "code",
   "execution_count": 4,
   "id": "de37cebc",
   "metadata": {},
   "outputs": [
    {
     "name": "stdout",
     "output_type": "stream",
     "text": [
      "enter the no2\n",
      "2\n",
      "the x is2\n",
      "enter the no1\n",
      "1\n",
      "the x is3\n"
     ]
    }
   ],
   "source": [
    "obj.total_y()"
   ]
  },
  {
   "cell_type": "code",
   "execution_count": 5,
   "id": "aa2d4e42",
   "metadata": {},
   "outputs": [
    {
     "name": "stdout",
     "output_type": "stream",
     "text": [
      "enter the no1\n",
      "1\n",
      "1\n",
      "the y is1\n",
      "enter the no2\n",
      "2\n",
      "2\n",
      "the y is3\n"
     ]
    }
   ],
   "source": [
    "obj.total_x()"
   ]
  },
  {
   "cell_type": "code",
   "execution_count": null,
   "id": "42b07628",
   "metadata": {},
   "outputs": [],
   "source": [
    "obj.square_x()"
   ]
  },
  {
   "cell_type": "code",
   "execution_count": null,
   "id": "a4b6dd39",
   "metadata": {},
   "outputs": [],
   "source": [
    "obj.square_y()"
   ]
  },
  {
   "cell_type": "code",
   "execution_count": null,
   "id": "79b4c7d7",
   "metadata": {},
   "outputs": [],
   "source": [
    "obj.multiple_xy()"
   ]
  },
  {
   "cell_type": "code",
   "execution_count": null,
   "id": "20c78ce5",
   "metadata": {},
   "outputs": [],
   "source": [
    "obj.average_x()"
   ]
  },
  {
   "cell_type": "code",
   "execution_count": null,
   "id": "d57d6f69",
   "metadata": {},
   "outputs": [],
   "source": [
    "obj.average_y()"
   ]
  },
  {
   "cell_type": "code",
   "execution_count": null,
   "id": "f1bde8fe",
   "metadata": {},
   "outputs": [],
   "source": [
    "obj.mam()"
   ]
  },
  {
   "cell_type": "code",
   "execution_count": null,
   "id": "46057577",
   "metadata": {},
   "outputs": [],
   "source": [
    "obj.bah()"
   ]
  },
  {
   "cell_type": "code",
   "execution_count": null,
   "id": "cdf5ba35",
   "metadata": {},
   "outputs": [],
   "source": []
  },
  {
   "cell_type": "code",
   "execution_count": null,
   "id": "0c368e8c",
   "metadata": {},
   "outputs": [],
   "source": []
  },
  {
   "cell_type": "code",
   "execution_count": null,
   "id": "7071c445",
   "metadata": {},
   "outputs": [],
   "source": []
  }
 ],
 "metadata": {
  "kernelspec": {
   "display_name": "Python 3 (ipykernel)",
   "language": "python",
   "name": "python3"
  },
  "language_info": {
   "codemirror_mode": {
    "name": "ipython",
    "version": 3
   },
   "file_extension": ".py",
   "mimetype": "text/x-python",
   "name": "python",
   "nbconvert_exporter": "python",
   "pygments_lexer": "ipython3",
   "version": "3.10.4"
  }
 },
 "nbformat": 4,
 "nbformat_minor": 5
}
